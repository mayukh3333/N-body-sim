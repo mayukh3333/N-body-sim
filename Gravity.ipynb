{
 "cells": [
  {
   "cell_type": "markdown",
   "metadata": {
    "deletable": false,
    "editable": false,
    "nbgrader": {
     "cell_type": "markdown",
     "checksum": "72f5dac46dd7ebb5485c98098b0ac21f",
     "grade": false,
     "grade_id": "intro",
     "locked": true,
     "schema_version": 3,
     "solution": false,
     "task": false
    }
   },
   "source": [
    "### Assignment 3\n",
    "\n",
    "Due Wed night Feb 5 (before 2:00 AM Thu Feb 6)\n",
    "\n",
    "## ODEs : N-bodies under gravity\n",
    "\n",
    "#### Equations\n",
    "\n",
    "An object at position $\\mathbf r_0$ will experience a vector acceleration $\\mathbf a$ due to another body with mass $m_1$ at $\\mathbf r_1$\n",
    "\n",
    "$$\n",
    "\\mathbf a = \\frac{G m_1}{|\\mathbf r_1- \\mathbf r_0|^3}(\\mathbf r_1 - \\mathbf r_0)\n",
    "$$\n",
    "where \n",
    "\n",
    "If there are multiple bodies, we add the accelerations vectorially:\n",
    "$$\n",
    "\\mathbf a  = \\sum_{i=1}^N \\frac{G m_i}{|\\mathbf r_i- \\mathbf r_0|^3}(\\mathbf r_i- \\mathbf r_0)\n",
    "$$\n",
    "\n",
    "As we have seen in class, there are several different methods to integrate the equations of motion. \n",
    "\n",
    "#### a) \n",
    "\n",
    "Your code below should implement the Euler, RK2 and RK4 methods for an arbitrary number of bodies, given an initial position and velocity and a mass for each body.\n",
    "\n",
    "_Try to write the code in a general way so that only the minimum changes need to be made to run using a different method or a different time step._"
   ]
  },
  {
   "cell_type": "code",
   "execution_count": 1,
   "metadata": {
    "code_folding": [],
    "deletable": false,
    "editable": false,
    "nbgrader": {
     "cell_type": "code",
     "checksum": "648499d28024729bd5852ba33b004037",
     "grade": false,
     "grade_id": "imports",
     "locked": true,
     "schema_version": 3,
     "solution": false,
     "task": false
    },
    "run_control": {
     "marked": true
    }
   },
   "outputs": [],
   "source": [
    "import numpy as np\n",
    "import scipy.integrate\n",
    "import matplotlib.pyplot as plt\n",
    "%matplotlib inline"
   ]
  },
  {
   "cell_type": "code",
   "execution_count": 2,
   "metadata": {
    "code_folding": [],
    "deletable": false,
    "nbgrader": {
     "cell_type": "code",
     "checksum": "46541a01b6463f0a1f674c5f47d20148",
     "grade": true,
     "grade_id": "main_code",
     "locked": false,
     "points": 25,
     "schema_version": 3,
     "solution": true
    },
    "run_control": {
     "marked": true
    }
   },
   "outputs": [],
   "source": [
    "G = 6.673e-11\n",
    "\n",
    "def dfdt(f0,t, M = [5.972e24,0.1] , N = 2):\n",
    "    \"\"\"\n",
    "    Calculates the derivatives of the given phase space at an instant of time\n",
    "    for an N body system under gravity\n",
    "    \n",
    "    Args:\n",
    "        f0: given phase space (numpy array or a list)\n",
    "        t: instant of time (integer or a float)\n",
    "        M: Mass of All the bodies in Phase space (numpy array or list)\n",
    "                                                 (default [Mass of Earth, Mass of a projectile])\n",
    "        N: number or bodies in the system (default 2)\n",
    "    \n",
    "    Requirements:\n",
    "        size of f0 = N * 6\n",
    "        size of M = N\n",
    "\n",
    "    Returns:\n",
    "        dfdt derivative of all the coordinates in the phase space\n",
    "    \n",
    "    \n",
    "    \"\"\"\n",
    "    #converts the phase space to a 2d array of shape (N,6)\n",
    "    converted_f0 = np.reshape(f0,(N,6))\n",
    "    \n",
    "    #initialize all the arrays used in the function\n",
    "    dfdt = np.array(converted_f0) #derivatives of phase space\n",
    "    f = np.array(converted_f0) #converted phase space\n",
    "    m_xi_x0 = np.array(f[0:N,0:N]) #array which stores xi - xj\n",
    "    m_yi_y0 = np.array(f[0:N,0:N]) #array which store yi - yj\n",
    "    m_zi_z0 = np.array(f[0:N,0:N]) #array which stores zi - zj\n",
    "    sum_total = np.array(f[0:N,0:N]) #array which sums all the coordinate arrays\n",
    "    \n",
    "    k = 0 #counter used \n",
    "    \n",
    "    #all unit vector's data updated\n",
    "    for i in range(0,N):\n",
    "        for j in range(0, N):\n",
    "                m_xi_x0[i][j] = (-f[j][0] + f[k][0]) #unit vector in x\n",
    "                m_yi_y0[i][j] = (-f[j][1] + f[k][1]) #unit vector in y\n",
    "                m_zi_z0[i][j] = (-f[j][2] + f[k][2]) #unit vector in z\n",
    "        k += 1\n",
    "\n",
    "    sum_total = (((m_xi_x0)**2) + ((m_yi_y0)**2) + ((m_zi_z0)**2))**1.5 #size of the vector\n",
    "    \n",
    "    #all unit vector's are changed to respective acceletrations\n",
    "    for i in range(0,N):\n",
    "        for j in range(0, N):\n",
    "            if(i != j): #as diagonal elements are zero\n",
    "                m_xi_x0[i][j] = (m_xi_x0[i][j]/ sum_total[i][j])*M[i]*G #accelaration in x\n",
    "                m_yi_y0[i][j] = (m_yi_y0[i][j]/ sum_total[i][j])*M[i]*G #accelaration in y\n",
    "                m_zi_z0[i][j] = (m_zi_z0[i][j]/ sum_total[i][j])*M[i]*G #accelaration in z\n",
    "                \n",
    "    #adds the columns of each of m_xi_x0, m_yi_y0, m_zi_z0\n",
    "    final_cell = np.array([(np.sum(m_xi_x0, axis = 0)),(np.sum(m_yi_y0, axis = 0)),(np.sum(m_zi_z0, axis = 0))])            \n",
    "\n",
    "    #stores the derivatives in \n",
    "    for i in range(0,N):\n",
    "        for j in range(3,6):\n",
    "            dfdt[i][j-3] = f[i][j]\n",
    "            dfdt[i][j] = final_cell[j-3][i]\n",
    "    \n",
    "    \n",
    "    return dfdt.flatten()              \n",
    "\n",
    "\n",
    "\n",
    "def euler(f, p0, M, t, N = 2, *args):\n",
    "    \"\"\"\n",
    "    implements Euler's method to solve a differential equation to\n",
    "    get the movement of the the n bodies through space\n",
    "    \n",
    "    Args:\n",
    "        f: function that return the derivatives of the phase space\n",
    "        p0: given phase space (numpy array or a list)\n",
    "        t: time for which the method has to be run)\n",
    "        M: Mass of All the bodies in Phase space (numpy array or list)\n",
    "        N: number or bodies in the system (default 2)\n",
    "    \n",
    "    Requirements:\n",
    "        size of p0 = N * 6\n",
    "        size of M = N\n",
    "\n",
    "    Returns:\n",
    "        x an array of phase space coordinates at every time step\n",
    "\n",
    "    \"\"\"\n",
    "    #initializes all the arrays and variables\n",
    "    p = np.array(p0)\n",
    "    t0 = t[0]\n",
    "    time_length = len(t)\n",
    "    \n",
    "    #intial derivatives are fetched\n",
    "    dpdt = f(p, t, M ,N, *args)\n",
    "\n",
    "    x = np.empty((time_length, len(p)))\n",
    "    #intial value of derivatives is stored\n",
    "    x[0,:] = p\n",
    "\n",
    "    for i in range(1, time_length):\n",
    "\n",
    "        dt = t[i] - t0 #time step is calculated\n",
    "        t0 = t[i] #intial value of time is updated \n",
    "        \n",
    "        p += dpdt * dt #coordinates of the bodies are found at that instant of time\n",
    "        x[i, :] = p #value of the new cordinates updates\n",
    "\n",
    "        dpdt = f(p, t, M ,N, *args) #derivatives updated using the new values\n",
    "\n",
    "        \n",
    "\n",
    "    return x\n",
    "\n",
    "def RK2(f, p0, M, t, N=2, *args):\n",
    "    \"\"\"\n",
    "    implements Rk2 method to solve a differential equation to\n",
    "    get the movement of the the n bodies through space\n",
    "    \n",
    "    Args:\n",
    "        f: function that return the derivatives of the phase space\n",
    "        p0: given phase space (numpy array or a list)\n",
    "        t: time for which the method has to be run)\n",
    "        M: Mass of All the bodies in Phase space (numpy array or list)\n",
    "        N: number or bodies in the system (default 2)\n",
    "    \n",
    "    Requirements:\n",
    "        size of p0 = N * 6\n",
    "        size of M = N\n",
    "\n",
    "    Returns:\n",
    "        x an array of phase space coordinates at every time step\n",
    "\n",
    "    \"\"\"\n",
    "    #vectors intitalized\n",
    "    time_length = len(t)\n",
    "    x = np.array([p0]* time_length)\n",
    "    \n",
    "    for i in range(time_length - 1):\n",
    "        h = t[i+1] - t[i] #time step calculated\n",
    "        \n",
    "        #calculates the coordinates for half step\n",
    "        inter_step = h * f(x[i], t, M ,N, *args) / 2.0 \n",
    "        \n",
    "        #using the half step full step value is calculated\n",
    "        x[i+1] = x[i] + h * f( x[i] + inter_step, t[i] + h / 2.0, M , *args ) \n",
    "\n",
    "    return x\n",
    "\n",
    "\n",
    "def RK4(f, p0, M, t,N=2, *args):\n",
    "    \"\"\"\n",
    "    implements Rk4 method to solve a differential equation to\n",
    "    get the movement of the the n bodies through space\n",
    "    \n",
    "    Args:\n",
    "        f: function that return the derivatives of the phase space\n",
    "        p0: given phase space (numpy array or a list)\n",
    "        t: time for which the method has to be run)\n",
    "        M: Mass of All the bodies in Phase space (numpy array or list)\n",
    "        N: number or bodies in the system (default 2)\n",
    "    \n",
    "    Requirements:\n",
    "        size of p0 = N * 6\n",
    "        size of M = N\n",
    "\n",
    "    Returns:\n",
    "        x an array of phase space coordinates at every time step\n",
    "\n",
    "    \"\"\"\n",
    "    #initialise all the vectors\n",
    "    time_length = len(t)\n",
    "    x = np.array([p0]* time_length)\n",
    "    \n",
    "    for i in range(time_length - 1):\n",
    "        h = t[i+1] - t[i]\n",
    "        \n",
    "        #the four RK4 steps are calculated\n",
    "        k1 = h * f(x[i], t[i],M,N, *args)\n",
    "        k2 = h * f(x[i] + k1*0.5 ,t[i],M,N, *args)\n",
    "        k3 = h * f(x[i] + k2*0.5 ,t[i],M,N, *args)\n",
    "        k4 = h * f(x[i] + k3 ,t[i],M,N, *args)\n",
    "        \n",
    "        #using the four steps the coordinates for next step are evaluated\n",
    "        x[i+1] = x[i] + (k1 + k2 + k2 + k3 + k3 + k4) / 6\n",
    "        \n",
    "    return x\n",
    "\n",
    "\n",
    " "
   ]
  },
  {
   "cell_type": "markdown",
   "metadata": {
    "deletable": false,
    "editable": false,
    "nbgrader": {
     "cell_type": "markdown",
     "checksum": "a18ec363dfc9933f82a909d801bcd3ab",
     "grade": false,
     "grade_id": "cell-96621ec9887bb2dd",
     "locked": true,
     "schema_version": 3,
     "solution": false,
     "task": false
    }
   },
   "source": [
    "#### b) Test 1\n",
    "\n",
    "It's always a good idea to check your code with a simple test. For example, it should reproduce known projectile motion solutions.\n",
    "\n",
    "In this test case, there are only 2 bodies: the Earth and the projectile. The Earth's mass is 5.972e24 kg and the radius of the Earth is 6.371e6 m (assume spherical). \n",
    "\n",
    "Assuming centre of the Earth is at coordinates (0,0,0), launch a projectile with mass 0.1 kg from the _surface_ of the Earth with a velocity 10 m/s straight up. Assume no air resistance.\n",
    "\n",
    "According to your analytic calculation (and assuming constant $g$) in the Markdown/Latex cell below, how long will it take to return to the surface? What is the maximum height above the surface that the projectile reaches?"
   ]
  },
  {
   "cell_type": "markdown",
   "metadata": {
    "deletable": false,
    "nbgrader": {
     "cell_type": "markdown",
     "checksum": "d23fd9361eba953f485abe3cc405ac80",
     "grade": true,
     "grade_id": "cell-05f466ead896108a",
     "locked": false,
     "points": 2,
     "schema_version": 3,
     "solution": true,
     "task": false
    }
   },
   "source": [
    "###### ANSWER\n",
    "$$\n",
    "\\begin{eqnarray}\n",
    "v - u &=& -gt_{top}\n",
    "\\end{eqnarray}\n",
    "$$\n",
    "Also at highest point the object has zero velocity\n",
    "\n",
    "$$\n",
    "\\begin{eqnarray}\n",
    "\\\\\n",
    "\\Longrightarrow v = 0 \n",
    "\\Longrightarrow -u = -gt_{top}\n",
    "\\Longrightarrow t_{top} = \\frac{u}{g}\n",
    "\\Longrightarrow t_{top} = \\frac{10 m/s}{9.81 m/s^2}\n",
    "\\Longrightarrow t_{top} = \\frac{10}{9.81}s\n",
    "\\Longrightarrow t_{top} = 1.01936799185s\n",
    "\\end{eqnarray}\n",
    "$$\n",
    "\n",
    "Hence the time required to reach the maximum height is the same as it takes to reach back due to symmetry\n",
    "\n",
    "$$\n",
    "\\begin{eqnarray}\n",
    "\\\\\n",
    "\\Longrightarrow t_{total} = 2*t_{top}\n",
    "\\Longrightarrow t_{total} = 2*1.01936799185s\n",
    "\\Longrightarrow t_{total} = 2.03873598369s\n",
    "\\end{eqnarray}\n",
    "$$\n",
    "\n",
    "For Max Height\n",
    "$$\n",
    "\\begin{eqnarray}\n",
    "v^2 - u^2= -2gH_{max}\n",
    "\\end{eqnarray}\n",
    "$$\n",
    "\n",
    "$$\n",
    "\\begin{eqnarray}\n",
    "\\Longrightarrow v^2 = 0\n",
    "\\Longrightarrow u^2 = 2gH_{max}\n",
    "\\Longrightarrow H_{max} = \\frac{u^2}{2g}\n",
    "\\Longrightarrow H_{max} = \\frac{( 10m/s )^{2}}{2*9.81 m/s^2}\n",
    "\\Longrightarrow H_{max} = \\frac{50}{9.81}m\n",
    "\\Longrightarrow H_{max} = 5.0968799185m\n",
    "\\end{eqnarray}\n",
    "$$"
   ]
  },
  {
   "cell_type": "markdown",
   "metadata": {
    "deletable": false,
    "editable": false,
    "nbgrader": {
     "cell_type": "markdown",
     "checksum": "a465e0c42694ce5cf2509d3103b63094",
     "grade": false,
     "grade_id": "cell-be394682cb98a02f",
     "locked": true,
     "schema_version": 3,
     "solution": false,
     "task": false
    }
   },
   "source": [
    "#### c)\n",
    "\n",
    "Now run your code for the amount of time that you calculated above plus a small bit extra (and with timesteps of 0.01s)\n",
    "\n",
    "Make a plot of the projectile's height above surface of the Earth as a function of time. \n",
    "\n",
    "Note 1: you should not use show() since we have included `%matplotlib inline` above. \n",
    "\n",
    "Note 2: In the next part you will be launching more projectiles from the surface of the Earth, so you are advised to a define function to simplify repeated calls, allowing for different initial velocities, timesteps and methods. For example:\n",
    "\n",
    "``def earth_projectile(vinit, times, method='euler'):``"
   ]
  },
  {
   "cell_type": "code",
   "execution_count": 3,
   "metadata": {
    "deletable": false,
    "nbgrader": {
     "cell_type": "code",
     "checksum": "8b314e4877424f95cbf0d00f2d2c0496",
     "grade": true,
     "grade_id": "test1",
     "locked": false,
     "points": 5,
     "schema_version": 3,
     "solution": true,
     "task": false
    }
   },
   "outputs": [
    {
     "data": {
      "image/png": "[encoded data removed]",
      "text/plain": [
       "<Figure size 432x288 with 1 Axes>"
      ]
     },
     "metadata": {
      "needs_background": "light"
     },
     "output_type": "display_data"
    }
   ],
   "source": [
    "def earth_projectile(vinit, times, method='Euler', M = 0.1, Graph = False):\n",
    "    \"\"\"\n",
    "    Simulates a projectile thrown from the surface of the earth\n",
    "    using different differential equation solving methods\n",
    "    \n",
    "    Args:\n",
    "        vinit: inital velocity of the projectile\n",
    "        times: time through which the projectile has to be run\n",
    "        method:  method to be used to solve the differential equation (default: 'Euler')\n",
    "        M: Mass of the projectile (default: 0.1kg)\n",
    "        Graph: Prints Graph if True (default False)\n",
    "    \n",
    "    Requirements:\n",
    "        vinit > 0\n",
    "        M > 0\n",
    "        method to be either Euler, RK2 or RK4\n",
    "    \n",
    "    Returns:\n",
    "        x co-ordinates of the projectile at every time step\n",
    "\n",
    "    \"\"\"\n",
    "    #intializes p0 with earth at origin and projectile at surface\n",
    "    p0 = np.array([0.,0.,0.,0.,0.,0.,0.,6.371e6,0.,0.,float(vinit),0.]) \n",
    "    #intializes the Mass list\n",
    "    Mass = [5.972e24,M]\n",
    "    #implements different method based on the input\n",
    "    if(method == 'Euler'):\n",
    "        output = euler(dfdt, p0, Mass, times) \n",
    "    elif(method == 'RK2'):\n",
    "        output = RK2(dfdt, p0, Mass, times)\n",
    "    elif(method == 'RK4'):\n",
    "        output = RK4(dfdt, p0, Mass, times)\n",
    "    else:\n",
    "        print(\"invalid method\")\n",
    "        output = None\n",
    "    #prints graph if asked for\n",
    "    if(Graph):\n",
    "        if(output.all() != None):\n",
    "            #takes time in x coordinate\n",
    "            x = times[:]\n",
    "            #takes the y component\n",
    "            y = output[:,7]\n",
    "            #plots the graph with time step\n",
    "            plt.plot(x,y,label=(method + \"-time step = \" + str(times[1]-times[0])+\"s\")); \n",
    "            plt.legend();\n",
    "    return output\n",
    "\n",
    "output = earth_projectile(10, np.linspace(0,2.05,206), method='Euler', M =0.1, Graph = True)\n",
    "    "
   ]
  },
  {
   "cell_type": "markdown",
   "metadata": {
    "deletable": false,
    "editable": false,
    "nbgrader": {
     "cell_type": "markdown",
     "checksum": "2c8f3e818077548bb7d5d06f8831d26b",
     "grade": false,
     "grade_id": "cell-ccd83cb97c7c8a2f",
     "locked": true,
     "schema_version": 3,
     "solution": false,
     "task": false
    }
   },
   "source": [
    "#### d) Test 2 : Escape!\n",
    "\n",
    "Now let's throw the projectile a little bit harder: try 12000 m/s straight up.\n",
    "\n",
    "Run your Euler code from 0 to 30000 seconds inclusive in steps of 100 seconds (``np.linspace(0,30_000,301)``) and 500 seconds. Plot projectile height against time for both cases on the same plot.\n",
    "\n",
    "Repeat with RK2 and RK4, for timesteps of 500 seconds. Add them all to the same plot."
   ]
  },
  {
   "cell_type": "code",
   "execution_count": 4,
   "metadata": {
    "deletable": false,
    "nbgrader": {
     "cell_type": "code",
     "checksum": "28745d90cd1f29fcc4d31cf74b5af9e3",
     "grade": true,
     "grade_id": "test2",
     "locked": false,
     "points": 4,
     "schema_version": 3,
     "solution": true,
     "task": false
    }
   },
   "outputs": [
    {
     "data": {
      "image/png": "[encoded data removed]",
      "text/plain": [
       "<Figure size 432x288 with 1 Axes>"
      ]
     },
     "metadata": {
      "needs_background": "light"
     },
     "output_type": "display_data"
    }
   ],
   "source": [
    "output1 = earth_projectile(12000, np.linspace(0,30_000,301), method='Euler', M = 0.1, Graph = True)\n",
    "output2 = earth_projectile(12000, np.linspace(0,30_000,61), method='Euler', M = 0.1, Graph = True)\n",
    "output3 = earth_projectile(12000, np.linspace(0,30_000,61), method='RK2', M = 0.1, Graph = True)\n",
    "output4 = earth_projectile(12000, np.linspace(0,30_000,61), method='RK4', M = 0.1, Graph = True)\n"
   ]
  },
  {
   "cell_type": "markdown",
   "metadata": {
    "deletable": false,
    "editable": false,
    "nbgrader": {
     "cell_type": "markdown",
     "checksum": "c78d1781ce43295f5b21df0ebd9e6356",
     "grade": false,
     "grade_id": "parte",
     "locked": true,
     "schema_version": 3,
     "solution": false,
     "task": false
    }
   },
   "source": [
    "#### e) \n",
    "In the cell below, explain why the long-timestep (500s) Euler solution has _qualitatively_ a very different behaviour compared with the higher precision (short-timestep) Euler solution."
   ]
  },
  {
   "cell_type": "markdown",
   "metadata": {
    "deletable": false,
    "nbgrader": {
     "cell_type": "markdown",
     "checksum": "37c1a10eb3714c0234a5030b75b2c517",
     "grade": true,
     "grade_id": "cell-1bc91d7ef71c2301",
     "locked": false,
     "points": 2,
     "schema_version": 3,
     "solution": true,
     "task": false
    }
   },
   "source": [
    "###### ANSWER\n",
    "\n",
    "As the error on Euler's method is of the order O(h) where h is the time step hence on a 500second time step the accuracy is very low. Hence the error on the 500 second time step accumulates and the projectile falls back to the earth\n",
    "\n",
    "Hence as Euler assumes the velocity to be constant for a longer duration it over estimates the slope and the error accumaltes with each step and hence the object returns back to earth."
   ]
  },
  {
   "cell_type": "markdown",
   "metadata": {
    "deletable": false,
    "editable": false,
    "nbgrader": {
     "cell_type": "markdown",
     "checksum": "09182ffa8282361d1f53882e7053d105",
     "grade": false,
     "grade_id": "cell-088fb8e2e7cf58dc",
     "locked": true,
     "schema_version": 3,
     "solution": false,
     "task": false
    }
   },
   "source": [
    "### f) \n",
    "Taking ``odeint`` at $t=30 000$ s as \"truth\" calculate the fractional error for RK4 with timesteps of 500 s.  \n",
    "\n",
    "Manually adjust via triak and error the Euler timestep so that it has approximately the same fractional error as RK4."
   ]
  },
  {
   "cell_type": "code",
   "execution_count": 5,
   "metadata": {
    "deletable": false,
    "nbgrader": {
     "cell_type": "code",
     "checksum": "a21d66556a892a5383d93f0cb2b3e569",
     "grade": true,
     "grade_id": "cell-95fccc6351481cda",
     "locked": false,
     "points": 2,
     "schema_version": 3,
     "solution": true,
     "task": false
    },
    "run_control": {
     "marked": true
    }
   },
   "outputs": [
    {
     "name": "stdout",
     "output_type": "stream",
     "text": [
      "The given Euler has the same fractional error as RK4\n"
     ]
    }
   ],
   "source": [
    "p0 = np.array([0.,0.,0.,0.,0.,0.,0.,6.371e6,0.,0.,12000.,0.])\n",
    "t = np.linspace(0,30_000,61)\n",
    "M = [5.972e24,0.1]\n",
    "sol = scipy.integrate.odeint(dfdt, p0, t, args=(M,))\n",
    "\n",
    "error_rk4 = output4[:,7]/sol[:,7]\n",
    "\n",
    "output5 = earth_projectile(12000, np.linspace(0,30_000,2401), method='Euler', M = 0.1)\n",
    "sol2 = scipy.integrate.odeint(dfdt, p0, np.linspace(0,30_000,2401), args=(M,))\n",
    "\n",
    "error_euler = output5[:,7]/sol2[:,7]\n",
    "\n",
    "checker = [1]\n",
    "\n",
    "#as Euler would have far more steps than rk4 to compare the error on both\n",
    "#we compare the value of the same time steps. i.e 100 second times step\n",
    "\n",
    "for i in range(1,61):\n",
    "    if(abs(error_rk4[i]-error_euler[i*40]) <= 0.01):\n",
    "        checker.append(1)\n",
    "    else:\n",
    "        checker.append(0)    \n",
    "\n",
    "\n",
    "if(all(i == 1 for i in checker)):\n",
    "    print(\"The given Euler has the same fractional error as RK4\")\n",
    "else:\n",
    "    print(\"The given Euler doesnt the same fractional error as RK4\")"
   ]
  },
  {
   "cell_type": "markdown",
   "metadata": {
    "deletable": false,
    "editable": false,
    "nbgrader": {
     "cell_type": "markdown",
     "checksum": "46e7d7acf5c4ef4ff42230b2148951b6",
     "grade": false,
     "grade_id": "cell-fbffcb5a877a2f84",
     "locked": true,
     "schema_version": 3,
     "solution": false,
     "task": false
    }
   },
   "source": [
    "Now having fixed the timesteps for both methods to achieve the same accuracy, time the Euler method using the ``%%timeit`` cell magic command https://ipython.readthedocs.io/en/stable/interactive/magics.html#magic-timeit"
   ]
  },
  {
   "cell_type": "code",
   "execution_count": 6,
   "metadata": {
    "deletable": false,
    "nbgrader": {
     "cell_type": "code",
     "checksum": "276e142600322b8de7dc59ed32951602",
     "grade": true,
     "grade_id": "cell-a946d71a91957afc",
     "locked": false,
     "points": 1,
     "schema_version": 3,
     "solution": true,
     "task": false
    },
    "run_control": {
     "marked": true
    }
   },
   "outputs": [
    {
     "name": "stdout",
     "output_type": "stream",
     "text": [
      "238 ms ± 665 µs per loop (mean ± std. dev. of 7 runs, 1 loop each)\n"
     ]
    }
   ],
   "source": [
    "%%timeit \n",
    "earth_projectile(12000, np.linspace(0,30_000,2401), method='Euler', M = 0.1)"
   ]
  },
  {
   "cell_type": "markdown",
   "metadata": {
    "deletable": false,
    "editable": false,
    "nbgrader": {
     "cell_type": "markdown",
     "checksum": "29e22f058cdd00b745d2bb870355110f",
     "grade": false,
     "grade_id": "cell-5093491cdbdd7d42",
     "locked": true,
     "schema_version": 3,
     "solution": false,
     "task": false
    }
   },
   "source": [
    "And time RK4."
   ]
  },
  {
   "cell_type": "code",
   "execution_count": 7,
   "metadata": {
    "deletable": false,
    "nbgrader": {
     "cell_type": "code",
     "checksum": "ff84d8671c0bd8c779c05cec568b9798",
     "grade": true,
     "grade_id": "cell-87fa2f9c59b8b432",
     "locked": false,
     "points": 1,
     "schema_version": 3,
     "solution": true,
     "task": false
    }
   },
   "outputs": [
    {
     "name": "stdout",
     "output_type": "stream",
     "text": [
      "24.3 ms ± 115 µs per loop (mean ± std. dev. of 7 runs, 10 loops each)\n"
     ]
    }
   ],
   "source": [
    "%%timeit\n",
    "earth_projectile(12000, np.linspace(0,30_000,61), method='RK4', M = 0.1)"
   ]
  },
  {
   "cell_type": "markdown",
   "metadata": {
    "deletable": false,
    "editable": false,
    "nbgrader": {
     "cell_type": "markdown",
     "checksum": "805efab836711a5c62206142e6198a38",
     "grade": false,
     "grade_id": "cell-8a0922ca7a3a60e2",
     "locked": true,
     "schema_version": 3,
     "solution": false,
     "task": false
    }
   },
   "source": [
    "At the _same accuracy_ , RK4 should be faster. By what factor? Explain why?"
   ]
  },
  {
   "cell_type": "markdown",
   "metadata": {
    "deletable": false,
    "nbgrader": {
     "cell_type": "markdown",
     "checksum": "8daaff7c44e78eec8c7d9f5f262731bb",
     "grade": true,
     "grade_id": "cell-62aec20b7ed389e0",
     "locked": false,
     "points": 2,
     "schema_version": 3,
     "solution": true,
     "task": false
    }
   },
   "source": [
    "###### ANSWER\n",
    "\n",
    "Rk4 is faster by approximately a factor of 10\n",
    "\n",
    "Because for the same accuracy Euler need 40 times the time steps of RK4"
   ]
  },
  {
   "cell_type": "markdown",
   "metadata": {},
   "source": [
    "#### g) Test 3\n",
    "\n",
    "In the example above the projectile might have been a small object, such as an apple.\n",
    "\n",
    "As you all know, Newton realized that apples and the moon were governed by the same force: gravity.\n",
    "\n",
    "So now let's replace the apple with the moon. The moon has a mass of 7.348e22  kg. The distance between the centre of the Earth and the centre of the Moon is 384,403 km. Finally let's approximate the Moon's orbit as circular with an orbital speed of 1.022 km/s.\n",
    "\n",
    "Now you may think that you just need to give the moon a tangential velocity and you are done. But if you do _only_ that the Earth-moon system has a net non-zero momentum and it will wander off in one direction. To keep the centre of mass of the Earth-moon system at rest, the Earth needs equal and opposite momentum to the moon!\n",
    "\n",
    "Plot the orbit of the moon.\n",
    "\n",
    "To force the plot to have equal units in horizontally and vertically (so that circular orbits appear circular) use `plt.gca().set_aspect(aspect='equal')`"
   ]
  },
  {
   "cell_type": "code",
   "execution_count": 8,
   "metadata": {
    "deletable": false,
    "nbgrader": {
     "cell_type": "code",
     "checksum": "1ecec3fd53018587e013acfdaae2838a",
     "grade": true,
     "grade_id": "cell-25d4e846517fe545",
     "locked": false,
     "points": 5,
     "schema_version": 3,
     "solution": true,
     "task": false
    }
   },
   "outputs": [
    {
     "data": {
      "image/png": "[encoded data removed]",
      "text/plain": [
       "<Figure size 432x288 with 1 Axes>"
      ]
     },
     "metadata": {
      "needs_background": "light"
     },
     "output_type": "display_data"
    }
   ],
   "source": [
    "def net_momentum_finder(v2 = 1022., M1 = 5.972e24, M2 = 7.348e22):\n",
    "    \"\"\"\n",
    "    finds the unknown velocity in a 2 body system using conservation of momentum\n",
    "    \n",
    "    Args:\n",
    "        v2: inital velocity the second body (default = 1022.)\n",
    "        M1: Mass of the first body (default: 5.972e24kg)\n",
    "        M2: Mass of the second body (default: 7.348e22kg)\n",
    "    \n",
    "    Requirements:\n",
    "        M1 > 0\n",
    "        M2 > 0\n",
    "    \n",
    "    Returns:\n",
    "        (M2*v2)/M1 velocity of the first objectq\n",
    "\n",
    "    \"\"\"\n",
    "    return -(M2*v2)/M1\n",
    "\n",
    "\n",
    "def earth_planet(vinit, times,radius, method='Euler', M = 7.348e22, Graph = False, Graph_other = True):\n",
    "    \"\"\"\n",
    "    simulates the motion of a celestial body due to earths gravitational field aroudn the earth\n",
    "    \n",
    "    Args:\n",
    "        vinit: intial tangential velocity of the celestial body\n",
    "        times: array of time\n",
    "        radius: distance between the centre of the Earth and the centre of the body \n",
    "        method: method used to solver the differential equation (default = 'Euler')\n",
    "        M: Mass of the celestial body (default = 7.348e22kg)\n",
    "        Graph: Plots the Graph if True (default = False)\n",
    "        Graph_other: Plots the Graph of the celestial body if True (Default = True)\n",
    "    \n",
    "    Requirements:\n",
    "        M > 0\n",
    "        R > 0\n",
    "        methods to be either of euler, RK2, RK4\n",
    "    \n",
    "    Returns:\n",
    "        output the phase space vector\n",
    "\n",
    "    \"\"\"\n",
    "    #intializes the velocity of earth to ensure conservation of momentum\n",
    "    v1 = net_momentum_finder(vinit, M2 = M)\n",
    "    #intializes the phase space list with intial coordinates\n",
    "    p0 = [0.,0.,0.,float(v1),0.,0.,0.,float(radius),0.,float(vinit),0.,0.]\n",
    "    #intializes Mass\n",
    "    Mass = [5.972e24,7.348e22]\n",
    "    #checks which method is told to implement\n",
    "    if(method == 'Euler'):\n",
    "        output = euler(dfdt, p0, Mass, times) \n",
    "    elif(method == 'RK2'):\n",
    "        output = RK2(dfdt, p0, Mass, times)\n",
    "    elif(method == 'RK4'):\n",
    "        output = RK4(dfdt, p0, Mass, times)\n",
    "    else:\n",
    "        print(\"invalid method\")\n",
    "        output = None\n",
    "    #plots graph and checks if asked to graph\n",
    "    if(Graph):\n",
    "        #checks which object's graph has to be plot\n",
    "        if(Graph_other):\n",
    "            if(output.all() != None):\n",
    "                x = output[:,6]\n",
    "                y = output[:,7]\n",
    "                plt.plot(x,y); \n",
    "                plt.gca().set_aspect(aspect='equal');\n",
    "        else:\n",
    "            if(output.all() != None):\n",
    "                x = output[:,0]\n",
    "                y = output[:,1]\n",
    "                plt.plot(x,y); \n",
    "                plt.gca().set_aspect(aspect='equal');\n",
    "                \n",
    "    return output\n",
    "\n",
    "earth_moon = earth_planet(1022, np.linspace(0,2.506e+6,1000),3.84e8, method='RK4', M = 7.348e22, Graph = True)\n"
   ]
  },
  {
   "cell_type": "markdown",
   "metadata": {
    "deletable": false,
    "editable": false,
    "nbgrader": {
     "cell_type": "markdown",
     "checksum": "f6284ceb2cebd1194427a0e8c8857b25",
     "grade": false,
     "grade_id": "cell-c510e621951f2805",
     "locked": true,
     "schema_version": 3,
     "solution": false,
     "task": false
    }
   },
   "source": [
    "Now plot the orbit of the Earth. What is the radius of the Earth's orbit around the centre of mass?"
   ]
  },
  {
   "cell_type": "code",
   "execution_count": 9,
   "metadata": {
    "deletable": false,
    "nbgrader": {
     "cell_type": "code",
     "checksum": "7ab47057404142ed493f7b92a366e364",
     "grade": true,
     "grade_id": "cell-c3fd10a09265c4f2",
     "locked": false,
     "points": 1,
     "schema_version": 3,
     "solution": true,
     "task": false
    }
   },
   "outputs": [
    {
     "data": {
      "image/png": "[encoded data removed]",
      "text/plain": [
       "<Figure size 432x288 with 1 Axes>"
      ]
     },
     "metadata": {
      "needs_background": "light"
     },
     "output_type": "display_data"
    }
   ],
   "source": [
    "earth = earth_planet(1022, np.linspace(0,2.506e+6,1000),3.84e8, method='RK4', M = 7.348e22, Graph = True,Graph_other = False )\n"
   ]
  },
  {
   "cell_type": "markdown",
   "metadata": {
    "deletable": false,
    "nbgrader": {
     "cell_type": "markdown",
     "checksum": "22e70ba8cfe4e4bbf2098b4b16091c2a",
     "grade": true,
     "grade_id": "cell-6f5b6018bc09da3a",
     "locked": false,
     "points": 1,
     "schema_version": 3,
     "solution": true,
     "task": false
    }
   },
   "source": [
    "###### ANSWER\n",
    "\n",
    "radius of earth's orbit= 4756927.13193121 meters\n",
    "\n",
    "obtained by finding the max value at output[0:,1] and dividing it by 2\n"
   ]
  },
  {
   "cell_type": "markdown",
   "metadata": {
    "deletable": false,
    "editable": false,
    "nbgrader": {
     "cell_type": "markdown",
     "checksum": "b1dd1e925e03d42c09446b270fe7df1b",
     "grade": false,
     "grade_id": "cell-f067e83f4f2f7d16",
     "locked": true,
     "schema_version": 3,
     "solution": false,
     "task": false
    }
   },
   "source": [
    "#### h) Test 4 : Three body problem\n",
    "\n",
    "Imagine a trinary star system of three equal-mass stars, all with mass the same as the sun.\n",
    "\n",
    "Suppose they are in orbit around their common centre of mass.\n",
    "\n",
    "Let us put them in the $x-y$ plane. The initial positions are\n",
    "\n",
    "* Star 1 is at (-0.5, -0.28867) AU\n",
    "* Star 2 is at (0., 0.57735) AU\n",
    "* Star 3 is at (+0.5, -0.28867) AU\n",
    "\n",
    "where an AU (Astronomical Unit) is 1.49597871e11\n",
    "\n",
    "The initial velocities are\n",
    "\n",
    "* Star 1: (14894.68, -25798.34) m/s\n",
    "* Star 2: (-29789.36, 0) m/s\n",
    "* Star 3: (14894.68, +25798.34) m/s\n",
    "\n",
    "Set up the system and run it for 2e7 seconds with steps of 10000 s. \n",
    "\n",
    "Plot the positions of each star on the same plot (using different colours), but using a symbol like ``x`` or ``+`` every 100 steps (1e6 seconds). Describe the motions."
   ]
  },
  {
   "cell_type": "code",
   "execution_count": 10,
   "metadata": {
    "deletable": false,
    "nbgrader": {
     "cell_type": "code",
     "checksum": "e061c91fae59e00b58711fc5428a8b19",
     "grade": true,
     "grade_id": "cell-776384f7fc310ca9",
     "locked": false,
     "points": 2,
     "schema_version": 3,
     "solution": true,
     "task": false
    }
   },
   "outputs": [
    {
     "data": {
      "image/png": "[encoded data removed]",
      "text/plain": [
       "<Figure size 432x288 with 1 Axes>"
      ]
     },
     "metadata": {
      "needs_background": "light"
     },
     "output_type": "display_data"
    }
   ],
   "source": [
    "#intialize all coordinates for 1st body\n",
    "x1 = -0.5*1.49597871e11\n",
    "y1 = -0.28867*1.49597871e11\n",
    "v1_x = 14894.68\n",
    "v1_y = -25798.34\n",
    "\n",
    "#intialize all coordinates for 2nd body\n",
    "x2 = 0.\n",
    "y2 = 0.57735*1.49597871e11\n",
    "v2_x = -29789.36\n",
    "v2_y = 0\n",
    "\n",
    "#intialize all coordinates for 3rd body\n",
    "x3 = 0.5*1.49597871e11\n",
    "y3 = -0.28867*1.49597871e11\n",
    "v3_x = 14894.68\n",
    "v3_y = 25798.34\n",
    "\n",
    "#intialize all Masses\n",
    "Mass_3b = [1.989e30,1.989e30,1.989e30]\n",
    "#intialize all coordinates\n",
    "p0 = [x1,y1,0.,v1_x,v1_y,0.,x2,y2,0.,v2_x,v2_y,0,x3,y3,0.,v3_x,v3_y,0]\n",
    "#intialize time\n",
    "time_3b_ = np.linspace(0,2e7,2001)\n",
    "\n",
    "#simulates a 3 body system under gravity\n",
    "output_3b = euler(dfdt, p0, Mass_3b, time_3b_, N = 3)\n",
    "\n",
    "#plots the graph for the three bodies\n",
    "p1_x = output_3b[:,0]\n",
    "p1_y = output_3b[:,1]\n",
    "p2_x = output_3b[:,6]\n",
    "p2_y = output_3b[:,7]\n",
    "p3_x = output_3b[:,12]\n",
    "p3_y = output_3b[:,13]\n",
    "plt.plot(p1_x,p1_y, 'r.', markevery = 100);\n",
    "plt.plot(p2_x,p2_y, 'rx', markevery = 100);\n",
    "plt.plot(p3_x,p3_y, 'r+', markevery = 100);\n",
    "plt.gca().set_aspect(aspect='equal');"
   ]
  },
  {
   "cell_type": "markdown",
   "metadata": {
    "deletable": false,
    "nbgrader": {
     "cell_type": "markdown",
     "checksum": "a47a621ae6e034dd5fe5981a76715141",
     "grade": true,
     "grade_id": "cell-46db2cf6fd76361b",
     "locked": false,
     "points": 1,
     "schema_version": 3,
     "solution": true,
     "task": false
    }
   },
   "source": [
    "###### ANSWER\n",
    "\n",
    "All Objects are in circular motion around the origin of the system"
   ]
  },
  {
   "cell_type": "markdown",
   "metadata": {
    "deletable": false,
    "editable": false,
    "nbgrader": {
     "cell_type": "markdown",
     "checksum": "1ebf2d2f78e6820540b8ddae296b5d3f",
     "grade": false,
     "grade_id": "cell-94cac4188a665a67",
     "locked": true,
     "schema_version": 3,
     "solution": false,
     "task": false
    }
   },
   "source": [
    "Now run and plot for another 8e7 seconds (letting the initial conditions here be the final timestep of the previous run)."
   ]
  },
  {
   "cell_type": "code",
   "execution_count": 11,
   "metadata": {
    "deletable": false,
    "nbgrader": {
     "cell_type": "code",
     "checksum": "8f4bf9ba2cbbc055cd34f9e0ab9179cf",
     "grade": true,
     "grade_id": "cell-fe29f09ce9cb32f4",
     "locked": false,
     "points": 1,
     "schema_version": 3,
     "solution": true,
     "task": false
    }
   },
   "outputs": [
    {
     "data": {
      "image/png": "[encoded data removed]",
      "text/plain": [
       "<Figure size 432x288 with 1 Axes>"
      ]
     },
     "metadata": {
      "needs_background": "light"
     },
     "output_type": "display_data"
    }
   ],
   "source": [
    "#sets the intial vector to be the final value of the previous simulation\n",
    "p0_now = output_3b[-1]\n",
    "#intializes all other values\n",
    "Mass_3b = [1.989e30,1.989e30,1.989e30]\n",
    "time_3b_now = np.linspace(0,8e7,2001)\n",
    "\n",
    "#simulates the 3 body system \n",
    "output_3b_now = euler(dfdt, p0_now, Mass_3b, time_3b_now, N = 3)\n",
    "#plots the Graph\n",
    "p1_x_n = output_3b_now[:,0]\n",
    "p1_y_n = output_3b_now[:,1]\n",
    "p2_x_n = output_3b_now[:,6]\n",
    "p2_y_n = output_3b_now[:,7]\n",
    "p3_x_n = output_3b_now[:,12]\n",
    "p3_y_n = output_3b_now[:,13]\n",
    "plt.plot(p1_x_n,p1_y_n, 'r.', markevery = 100);\n",
    "plt.plot(p2_x_n,p2_y_n, 'rx', markevery = 100);\n",
    "plt.plot(p3_x_n,p3_y_n , 'r+', markevery = 100);\n",
    "plt.gca().set_aspect(aspect='equal');"
   ]
  },
  {
   "cell_type": "markdown",
   "metadata": {
    "deletable": false,
    "editable": false,
    "nbgrader": {
     "cell_type": "markdown",
     "checksum": "e30305dbab18e74afe515b9d296575e9",
     "grade": false,
     "grade_id": "cell-55ae0a3d532d32f6",
     "locked": true,
     "schema_version": 3,
     "solution": false,
     "task": false
    }
   },
   "source": [
    "Describe what has happened and why."
   ]
  },
  {
   "cell_type": "markdown",
   "metadata": {
    "deletable": false,
    "nbgrader": {
     "cell_type": "markdown",
     "checksum": "e8bf38061f2d29c2b4ceb989b555480c",
     "grade": true,
     "grade_id": "cell-18e6468db03faf27",
     "locked": false,
     "points": 2,
     "schema_version": 3,
     "solution": true,
     "task": false
    }
   },
   "source": [
    "##### Answer\n",
    "\n",
    "The bodies rotate around the origin untill they gain enough speed to escape the system and each of the object escapes the other's gravitation field and drifts away to inifinity"
   ]
  },
  {
   "cell_type": "markdown",
   "metadata": {
    "deletable": false,
    "editable": false,
    "nbgrader": {
     "cell_type": "markdown",
     "checksum": "19421fec19100f6ef36254d54409dda4",
     "grade": false,
     "grade_id": "cell-bd66d5bfe00cef50",
     "locked": true,
     "schema_version": 3,
     "solution": false,
     "task": false
    }
   },
   "source": [
    "Now combine and repeat the above two steps (1.e8 integration) with RK4."
   ]
  },
  {
   "cell_type": "code",
   "execution_count": 12,
   "metadata": {
    "deletable": false,
    "nbgrader": {
     "cell_type": "code",
     "checksum": "d0c65d6b1c6e5eecdef38bf46af00ae9",
     "grade": true,
     "grade_id": "cell-9010884ececfb440",
     "locked": false,
     "points": 1,
     "schema_version": 3,
     "solution": true,
     "task": false
    }
   },
   "outputs": [
    {
     "data": {
      "image/png": "[encoded data removed]",
      "text/plain": [
       "<Figure size 432x288 with 1 Axes>"
      ]
     },
     "metadata": {
      "needs_background": "light"
     },
     "output_type": "display_data"
    }
   ],
   "source": [
    "#intializes the vectors to be used\n",
    "p0 = [x1,y1,0.,v1_x,v1_y,0,x2,y2,0.,v2_x,v2_y,0,x3,y3,0.,v3_x,v3_y,0]\n",
    "time_3b_RK4 = np.linspace(0,1e8,2001)\n",
    "\n",
    "#simulates the 3 bodies using RK4\n",
    "output_3b_RK4 = RK4(dfdt, p0, Mass_3b, time_3b_RK4, N = 3)\n",
    "\n",
    "#plots the graph\n",
    "p1_x = output_3b_RK4[:,0]\n",
    "p1_y = output_3b_RK4[:,1]\n",
    "p2_x = output_3b_RK4[:,6]\n",
    "p2_y = output_3b_RK4[:,7]\n",
    "p3_x = output_3b_RK4[:,12]\n",
    "p3_y = output_3b_RK4[:,13]\n",
    "plt.plot(p1_x,p1_y, 'r.', markevery = 100);\n",
    "plt.plot(p2_x,p2_y, 'rx', markevery = 100);\n",
    "plt.plot(p3_x,p3_y, 'r+', markevery = 100);\n",
    "plt.gca().set_aspect(aspect='equal');"
   ]
  },
  {
   "cell_type": "markdown",
   "metadata": {
    "deletable": false,
    "editable": false,
    "nbgrader": {
     "cell_type": "markdown",
     "checksum": "542ad6403f35ae70bb08dffecd732f4d",
     "grade": false,
     "grade_id": "cell-9fb1cd470a5fc743",
     "locked": true,
     "schema_version": 3,
     "solution": false,
     "task": false
    }
   },
   "source": [
    "There may be differences in detail but qualitatively is the result the same as for Euler? Why or why not?"
   ]
  },
  {
   "cell_type": "markdown",
   "metadata": {
    "deletable": false,
    "nbgrader": {
     "cell_type": "markdown",
     "checksum": "0ea1bc85e96b8acd27b9f1d58cd86dad",
     "grade": true,
     "grade_id": "cell-a6ddaf61b5c404db",
     "locked": false,
     "points": 2,
     "schema_version": 3,
     "solution": true,
     "task": false
    }
   },
   "source": [
    "##### Answer\n",
    "\n",
    "Even though we ran both the methods for the same amount of time the RK4 method is behind the Euler method in terms of time. \n",
    "\n",
    "Euler method is at a position in time which is ahead of Rk4"
   ]
  },
  {
   "cell_type": "code",
   "execution_count": null,
   "metadata": {},
   "outputs": [],
   "source": []
  },
  {
   "cell_type": "code",
   "execution_count": null,
   "metadata": {},
   "outputs": [],
   "source": []
  }
 ],
 "metadata": {
  "anaconda-cloud": {},
  "kernelspec": {
   "display_name": "Python 3",
   "language": "python",
   "name": "python3"
  },
  "language_info": {
   "codemirror_mode": {
    "name": "ipython",
    "version": 3
   },
   "file_extension": ".py",
   "mimetype": "text/x-python",
   "name": "python",
   "nbconvert_exporter": "python",
   "pygments_lexer": "ipython3",
   "version": "3.6.9"
  }
 },
 "nbformat": 4,
 "nbformat_minor": 1
}
